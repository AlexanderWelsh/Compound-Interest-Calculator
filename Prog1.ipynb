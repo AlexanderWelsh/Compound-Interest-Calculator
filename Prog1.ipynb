{
 "cells": [
  {
   "cell_type": "markdown",
   "metadata": {
    "id": "GacMba-5t1SX"
   },
   "source": [
    "# CIS 443-01 - Analytics Programming\n",
    "## Program 1\n",
    "__Due__: Monday September 23 (by 11:59 PM)<br />\n",
    "__Worth__: 50 pts.<br />\n",
    "__Purpose__: Use a function and repetition control structure to demonstrate compounding interest."
   ]
  },
  {
   "cell_type": "markdown",
   "metadata": {
    "id": "WjernZjFt1Sa"
   },
   "source": [
    "### Directions\n",
    "In the code cell below, write Python code to accomplish the following using what you've learned through Chapter 4. \n",
    "\n",
    "\n",
    "#### Part 1\n",
    "\n",
    "Your code should allow the user to enter three values: a principle balance, an interest rate, and a number of years. \n",
    "\n",
    "For simplicity's sake, we will compound our interest once per year. In order to do so, create a function interest_calculator with three inputs, corresponding to the user inputs. They should have the default values 10000, .09, and 10, respectively. \n",
    "\n",
    "Your formula to calculate the interest will be Balance(Year + 1) = Balance * (1 + interest rate)\n",
    "\n",
    "So for example, starting with 10,000 and a 5% interest rate, the formula is 10,000 * (1 + .05) = 10,500. The next year would be 10,500 * (1 + .05) = 11,025 and so on. \n",
    "\n",
    "Each year you will output the year number, and the value of the balance that year. \n"
   ]
  },
  {
   "cell_type": "code",
   "execution_count": 66,
   "metadata": {
    "editable": true,
    "id": "8ZZORCgut1Sb",
    "slideshow": {
     "slide_type": ""
    },
    "tags": []
   },
   "outputs": [
    {
     "name": "stdin",
     "output_type": "stream",
     "text": [
      "Enter the principle balance:  14339\n",
      "Enter the interest rate:  .11\n",
      "Enter the number of years:  10\n"
     ]
    },
    {
     "name": "stdout",
     "output_type": "stream",
     "text": [
      "Year 1 compounded value is $15916.29\n",
      "Year 2 compounded value is $17667.08\n",
      "Year 3 compounded value is $19610.46\n",
      "Year 4 compounded value is $21767.61\n",
      "Year 5 compounded value is $24162.05\n",
      "Year 6 compounded value is $26819.87\n",
      "Year 7 compounded value is $29770.06\n",
      "Year 8 compounded value is $33044.77\n",
      "Year 9 compounded value is $36679.69\n",
      "Year 10 compounded value is $40714.46\n"
     ]
    }
   ],
   "source": [
    "# Put Program 1 Code Here. Do not create any additional code blocks or points may be deducted. \n",
    "#CIS-443-01\n",
    "#Program 1\n",
    "#9/23/24\n",
    "#This program takes a balance, interest rate, and time in years to calculate compounded interest for every year\n",
    "\n",
    "#Calls function using principal, interest_rate, and years.\n",
    "def compounding_interest_calculator(principal, interest_rate, years):\n",
    "    current = 1\n",
    "    #The while loop will continue until it reaches the year the user inputs\n",
    "    while current <= years:\n",
    "\n",
    "                #calculates the equation, prints the values, and steps up the current year after\n",
    "                principal = principal * (1 + interest_rate)\n",
    "                print(f\"Year {current} compounded value is ${principal:.2f}\")\n",
    "                current += 1\n",
    "\n",
    "#Princable balance input\n",
    "pbal = input(\"Enter the principle balance: \")\n",
    "\n",
    "#Checks principle balance for a float value\n",
    "try:\n",
    "    pbal = float(pbal)\n",
    "    #Interest input\n",
    "    inrate = input(\"Enter the interest rate: \")\n",
    "\n",
    "    #Checks interest for a float value\n",
    "    try:\n",
    "        inrate = float(inrate)\n",
    "        #time in years input\n",
    "        years = input(\"Enter the number of years: \")\n",
    "\n",
    "        #checks years for an integer \n",
    "        try:\n",
    "            years = int(years)\n",
    "\n",
    "            #calls the defined function\n",
    "            compounding_interest_calculator(pbal, inrate, years)\n",
    "            \n",
    "        except ValueError:\n",
    "            print(years, \"is not valid.\")\n",
    "    \n",
    "    except ValueError:\n",
    "            print(inrate, \"is not valid.\")\n",
    "        \n",
    "except ValueError:\n",
    "    print(pbal, \"is not valid.\")\n"
   ]
  },
  {
   "cell_type": "markdown",
   "metadata": {},
   "source": [
    "### Example Output\n",
    "<div class=\"alert alert-block alert-info\">\n",
    "Enter the principle balance:  14339<br>\n",
    "Enter the interest rate:  .11<br>\n",
    "Enter the number of years:  10<br>\n",
    "Year 1 compounded value is \\$15916.29<br>\n",
    "Year 2 compounded value is \\$17667.08<br>\n",
    "Year 3 compounded value is \\$19610.46<br>\n",
    "Year 4 compounded value is \\$21767.61<br>\n",
    "Year 5 compounded value is \\$24162.05<br>\n",
    "Year 6 compounded value is \\$26819.87<br>\n",
    "Year 7 compounded value is \\$29770.06<br>\n",
    "Year 8 compounded value is \\$33044.77<br>\n",
    "Year 9 compounded value is \\$36679.69<br>\n",
    "Year 10 compounded value is \\$40714.46\n",
    "</div>"
   ]
  },
  {
   "cell_type": "markdown",
   "metadata": {
    "id": "yk3sJ9Znt1Sn"
   },
   "source": [
    "#### Part 2\n",
    "**Answer the following**:\n",
    "\n",
    "How many years of this calculation do you have to use before you first get 38,000, at 5% interest, starting with 7,500?<br />\n",
    "34<br />\n",
    "100,000?<br />\n",
    "54<br />\n",
    "1,000,000?<br />\n",
    "101<br />\n",
    "\n",
    "Double click the cell in Jupyter to edit (__5 pts.__)\n",
    "\n"
   ]
  },
  {
   "cell_type": "markdown",
   "metadata": {
    "id": "bexgWeCMt1Sn"
   },
   "source": [
    "Be sure to save and exit your Jupyter Notebook and Shutdown Jupyter Lab (from the __File__ menu) before you submit your notebook on Blackboard for grading."
   ]
  }
 ],
 "metadata": {
  "colab": {
   "collapsed_sections": [],
   "provenance": []
  },
  "kernelspec": {
   "display_name": "Python 3 (ipykernel)",
   "language": "python",
   "name": "python3"
  },
  "language_info": {
   "codemirror_mode": {
    "name": "ipython",
    "version": 3
   },
   "file_extension": ".py",
   "mimetype": "text/x-python",
   "name": "python",
   "nbconvert_exporter": "python",
   "pygments_lexer": "ipython3",
   "version": "3.12.4"
  }
 },
 "nbformat": 4,
 "nbformat_minor": 4
}
